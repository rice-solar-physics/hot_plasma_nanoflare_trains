{
 "cells": [
  {
   "cell_type": "code",
   "execution_count": 1,
   "metadata": {
    "collapsed": true
   },
   "outputs": [],
   "source": [
    "__depends__=[]\n",
    "__dest__=\"../results/sample_table.tex\""
   ]
  },
  {
   "cell_type": "markdown",
   "metadata": {},
   "source": [
    "# Make a Sample Table with Astropy\n",
    "The [`astropy`](http://www.astropy.org/) package has some really nice dataframe-like functionality for constructing tables. These can even be exported to TeX as AASTeX `deluxetable` objects."
   ]
  },
  {
   "cell_type": "code",
   "execution_count": 2,
   "metadata": {
    "collapsed": true
   },
   "outputs": [],
   "source": [
    "import numpy as np\n",
    "import scipy.stats\n",
    "import astropy.table\n",
    "import astropy.io"
   ]
  },
  {
   "cell_type": "markdown",
   "metadata": {},
   "source": [
    "First, construct a bunch of normal distributions of varying sample size."
   ]
  },
  {
   "cell_type": "code",
   "execution_count": 3,
   "metadata": {
    "collapsed": false
   },
   "outputs": [],
   "source": [
    "sample_sizes = np.array([int(s) for s in np.logspace(1,4,4)])"
   ]
  },
  {
   "cell_type": "code",
   "execution_count": 4,
   "metadata": {
    "collapsed": true
   },
   "outputs": [],
   "source": [
    "true_mu,true_sigma = 1.,0.5\n",
    "distributions = []\n",
    "for s in sample_sizes:\n",
    "    distributions.append(np.random.normal(loc=true_mu,scale=true_sigma,size=s))"
   ]
  },
  {
   "cell_type": "markdown",
   "metadata": {},
   "source": [
    "Now, do a fit to each of the distributions."
   ]
  },
  {
   "cell_type": "code",
   "execution_count": 5,
   "metadata": {
    "collapsed": true
   },
   "outputs": [],
   "source": [
    "fitted_mu,fitted_sigma = [],[]\n",
    "for s,d in zip(sample_sizes,distributions):\n",
    "    mu,sigma = scipy.stats.norm.fit(d)\n",
    "    fitted_mu.append(mu)\n",
    "    fitted_sigma.append(sigma)\n",
    "fitted_mu = np.array(fitted_mu)\n",
    "fitted_sigma = np.array(fitted_sigma)"
   ]
  },
  {
   "cell_type": "markdown",
   "metadata": {},
   "source": [
    "Calculate the errors compared to the true mean."
   ]
  },
  {
   "cell_type": "code",
   "execution_count": 6,
   "metadata": {
    "collapsed": true
   },
   "outputs": [],
   "source": [
    "mu_errors = np.fabs(fitted_mu - true_mu)/(fitted_mu + true_mu)*100."
   ]
  },
  {
   "cell_type": "markdown",
   "metadata": {},
   "source": [
    "And finally build a table from these results."
   ]
  },
  {
   "cell_type": "code",
   "execution_count": 7,
   "metadata": {
    "collapsed": false
   },
   "outputs": [],
   "source": [
    "headers = (r'$N$',r'$\\mu$',r'$\\sigma$',r'$\\varepsilon_{\\mu}$')\n",
    "results_table = astropy.table.Table(np.vstack((sample_sizes,fitted_mu,fitted_sigma,mu_errors)).T,names=headers)"
   ]
  },
  {
   "cell_type": "code",
   "execution_count": 8,
   "metadata": {
    "collapsed": false
   },
   "outputs": [
    {
     "data": {
      "text/html": [
       "&lt;Table length=4&gt;\n",
       "<table id=\"table4473214032\">\n",
       "<thead><tr><th>$N$</th><th>$\\mu$</th><th>$\\sigma$</th><th>$\\varepsilon_{\\mu}$</th></tr></thead>\n",
       "<thead><tr><th>float64</th><th>float64</th><th>float64</th><th>float64</th></tr></thead>\n",
       "<tr><td>10.0</td><td>0.944447025127</td><td>0.510457405995</td><td>2.85700634447</td></tr>\n",
       "<tr><td>100.0</td><td>1.0135506579</td><td>0.487337624835</td><td>0.672973279698</td></tr>\n",
       "<tr><td>1000.0</td><td>1.02854304033</td><td>0.493003784777</td><td>1.40707097467</td></tr>\n",
       "<tr><td>10000.0</td><td>0.994356023607</td><td>0.498677540056</td><td>0.282997435072</td></tr>\n",
       "</table>"
      ],
      "text/plain": [
       "<Table length=4>\n",
       "  $N$       $\\mu$         $\\sigma$    $\\varepsilon_{\\mu}$\n",
       "float64    float64        float64           float64      \n",
       "------- -------------- -------------- -------------------\n",
       "   10.0 0.944447025127 0.510457405995       2.85700634447\n",
       "  100.0   1.0135506579 0.487337624835      0.672973279698\n",
       " 1000.0  1.02854304033 0.493003784777       1.40707097467\n",
       "10000.0 0.994356023607 0.498677540056      0.282997435072"
      ]
     },
     "execution_count": 8,
     "metadata": {},
     "output_type": "execute_result"
    }
   ],
   "source": [
    "results_table"
   ]
  },
  {
   "cell_type": "markdown",
   "metadata": {},
   "source": [
    "Specify the output format and write a caption and then print it to a file using [`astropy.io.ascii`](http://docs.astropy.org/en/stable/io/ascii/index.html)."
   ]
  },
  {
   "cell_type": "code",
   "execution_count": 9,
   "metadata": {
    "collapsed": false
   },
   "outputs": [],
   "source": [
    "formats = {\n",
    "    r'$N$':'%d',\n",
    "    r'$\\mu$':'.3f',r'$\\sigma$':'.3f',r'$\\varepsilon_{\\mu}$':'.3f'\n",
    "}\n",
    "caption = r'''This table is generated on the fly in the AAS\\TeX \\texttt{deluxetable} style using AstroPy. It can be\n",
    "easily viewed in the Jupyter notebook and is a great way for easily rebuilding tables each time your data changes.\n",
    "'''"
   ]
  },
  {
   "cell_type": "code",
   "execution_count": 10,
   "metadata": {
    "collapsed": true
   },
   "outputs": [],
   "source": [
    "astropy.io.ascii.write(results_table, \n",
    "                       output=__dest__,\n",
    "                       format='aastex',\n",
    "                       formats=formats,\n",
    "                       caption=caption\n",
    "                      )"
   ]
  },
  {
   "cell_type": "code",
   "execution_count": 11,
   "metadata": {
    "collapsed": true
   },
   "outputs": [],
   "source": []
  }
 ],
 "metadata": {
  "kernelspec": {
   "display_name": "Python 2",
   "language": "python",
   "name": "python2"
  },
  "language_info": {
   "codemirror_mode": {
    "name": "ipython",
    "version": 2
   },
   "file_extension": ".py",
   "mimetype": "text/x-python",
   "name": "python",
   "nbconvert_exporter": "python",
   "pygments_lexer": "ipython2",
   "version": "2.7.11"
  }
 },
 "nbformat": 4,
 "nbformat_minor": 0
}
